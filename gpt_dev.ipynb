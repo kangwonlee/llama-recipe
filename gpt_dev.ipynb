{
    "nbformat": 4,
    "nbformat_minor": 0,
    "metadata": {
        "colab": {
            "provenance": [],
            "include_colab_link": true
        },
        "kernelspec": {
            "name": "python3",
            "display_name": "Python 3"
        },
        "language_info": {
            "name": "python"
        }
    },
    "cells": [
        {
            "cell_type": "markdown",
            "metadata": {
                "colab_type": "text"
            },
            "source": [
                "<a href=\"https://colab.research.google.com/github/kangwonlee/llama-recipe/blob/nano-gpt/gpt_dev.ipynb\" target=\"_parent\"><img src=\"https://colab.research.google.com/assets/colab-badge.svg\" alt=\"Open In Colab\"/></a>"
            ]
        },
        {
            "cell_type": "markdown",
            "source": [
                "https://youtu.be/kCc8FmEb1nY"
            ],
            "metadata": {}
        },
        {
            "cell_type": "markdown",
            "source": [
                "## Building a GPT\n",
                "\n",
                "Companion notebook to the [Zero To Hero](https://karpathy.ai/zero-to-hero.html) video on GPT."
            ],
            "metadata": {}
        },
        {
            "cell_type": "code",
            "execution_count": null,
            "metadata": {},
            "outputs": [],
            "source": [
                "# We always start with a dataset to train on. Let's download the tiny shakespeare dataset\n",
                "!wget https://raw.githubusercontent.com/karpathy/char-rnn/master/data/tinyshakespeare/input.txt"
            ]
        },
        {
            "cell_type": "code",
            "source": [
                "# read it in to inspect it\n",
                "with open('input.txt', 'r', encoding='utf-8') as f:\n",
                "    text = f.read()"
            ],
            "metadata": {},
            "execution_count": null,
            "outputs": []
        },
        {
            "cell_type": "code",
            "source": [
                "print(\"length of dataset in characters: \", len(text))"
            ],
            "metadata": {},
            "execution_count": null,
            "outputs": []
        },
        {
            "cell_type": "code",
            "source": [
                "# let's look at the first 1000 characters\n",
                "print(text[:1000])"
            ],
            "metadata": {},
            "execution_count": null,
            "outputs": []
        },
        {
            "cell_type": "code",
            "source": [
                "# here are all the unique characters that occur in this text\n",
                "chars = sorted(list(set(text)))\n",
                "vocab_size = len(chars)\n",
                "print(''.join(chars))\n",
                "print(\"vocab_size =\",vocab_size)"
            ],
            "metadata": {},
            "execution_count": null,
            "outputs": []
        },
        {
            "cell_type": "code",
            "source": [
                "# create a mapping from characters to integers\n",
                "stoi = { ch:i for i,ch in enumerate(chars) }\n",
                "itos = { i:ch for i,ch in enumerate(chars) }\n",
                "encode = lambda s: [stoi[c] for c in s] # encoder: take a string, output a list of integers\n",
                "decode = lambda l: ''.join([itos[i] for i in l]) # decoder: take a list of integers, output a string\n",
                "\n",
                "print(encode(\"hii there\"))\n",
                "print(decode(encode(\"hii there\")))"
            ],
            "metadata": {},
            "execution_count": null,
            "outputs": []
        },
        {
            "cell_type": "code",
            "source": [
                "# let's now encode the entire text dataset and store it into a torch.Tensor\n",
                "import torch # we use PyTorch: https://pytorch.org\n",
                "data = torch.tensor(encode(text), dtype=torch.long)\n",
                "print(data.shape, data.dtype)\n",
                "print(data[:1000]) # the 1000 characters we looked at earier will to the GPT look like this"
            ],
            "metadata": {},
            "execution_count": null,
            "outputs": []
        },
        {
            "cell_type": "code",
            "source": [
                "# Let's now split up the data into train and validation sets\n",
                "n = int(0.9*len(data)) # first 90% will be train, rest val\n",
                "train_data = data[:n]\n",
                "val_data = data[n:]"
            ],
            "metadata": {},
            "execution_count": null,
            "outputs": []
        },
        {
            "cell_type": "code",
            "source": [
                "block_size = 8\n",
                "train_data[:block_size+1]\n",
                "# first 9 chars in the training set\n",
                "# 8 individual pairs of examples\n",
                "# (18,) -> 47\n",
                "# (18, 47) -> 56\n",
                "# ...\n",
                "# Q : variable input length?"
            ],
            "metadata": {},
            "execution_count": null,
            "outputs": []
        },
        {
            "cell_type": "code",
            "source": [
                "# input to the transformer\n",
                "x = train_data[:block_size]\n",
                "# target at each location\n",
                "y = train_data[1:block_size+1]\n",
                "for t in range(block_size):\n",
                "    context = x[:t+1]\n",
                "    target = y[t]\n",
                "    print(f\"when input is {context} the target: {target}\")"
            ],
            "metadata": {},
            "execution_count": null,
            "outputs": []
        },
        {
            "cell_type": "markdown",
            "source": [
                "* One more coordinate to consider : Batch dimension\n",
                "* GPU parallelization\n",
                "\n"
            ],
            "metadata": {}
        },
        {
            "cell_type": "code",
            "source": [
                "# reproducability\n",
                "torch.manual_seed(1337)\n",
                "\n",
                "batch_size = 4 # how many independent sequences will we process in parallel?\n",
                "block_size = 8 # what is the maximum context length for predictions?\n",
                "\n",
                "def get_batch(split):\n",
                "    # generate a small batch of data of inputs x and targets y\n",
                "    data = train_data if split == 'train' else val_data\n",
                "    ix = torch.randint(len(data) - block_size, (batch_size,))\n",
                "    # input : stack up to 4 x 8 tensor\n",
                "    x = torch.stack([data[i:i+block_size] for i in ix])\n",
                "    # output : stack up to 4 x 8 tensor\n",
                "    y = torch.stack([data[i+1:i+block_size+1] for i in ix])\n",
                "    return x, y\n",
                "\n",
                "xb, yb = get_batch('train')\n",
                "print('inputs:')\n",
                "print(xb.shape)\n",
                "print(xb)\n",
                "print('targets:')\n",
                "print(yb.shape)\n",
                "print(yb)\n",
                "\n",
                "print('----')\n",
                "\n",
                "for b in range(batch_size): # batch dimension\n",
                "    for t in range(block_size): # time dimension\n",
                "        context = xb[b, :t+1]\n",
                "        target = yb[b,t]\n",
                "        print(f\"when input is {context.tolist()} the target: {target}\")"
            ],
            "metadata": {},
            "execution_count": null,
            "outputs": []
        },
        {
            "cell_type": "code",
            "source": [
                "print(xb) # our input to the transformer\n",
                "# Would show a 4 by 8 matrix\n",
                "\n"
            ],
            "metadata": {},
            "execution_count": null,
            "outputs": []
        },
        {
            "cell_type": "code",
            "source": [
                "import torch\n",
                "import torch.nn as nn\n",
                "from torch.nn import functional as F\n",
                "\n",
                "# reproducible\n",
                "torch.manual_seed(1337)\n",
                "\n",
                "\n",
                "class BigramLanguageModel(nn.Module):\n",
                "    # simplest possible NN in terms of language modeling\n",
                "    def __init__(self, vocab_size):\n",
                "        super().__init__()\n",
                "        # each token directly reads off the logits for the next token from a lookup table\n",
                "\n",
                "        # nn.Embedding : very thin wrapper around a tensor\n",
                "        #   size : vocab_size by vocab_size\n",
                "        #     vocab_size = len(\"!$...ABC...abc..xyz\") = 65\n",
                "        self.token_embedding_table = nn.Embedding(vocab_size, vocab_size)\n",
                "\n",
                "    def forward(self, idx, targets=None):\n",
                "        # idx = inputs x\n",
                "        # idx and targets are both (B,T) tensor of integers\n",
                "\n",
                "        # prediction based on inputs\n",
                "        logits = self.token_embedding_table(idx) # (B,T,C)\n",
                "        # Batch 4 by Time 8 by Channel 65\n",
                "\n",
                "        if targets is None:\n",
                "            loss = None\n",
                "        else:\n",
                "            # calculate loss function\n",
                "            # https://pytorch.org/docs/stable/generated/torch.nn.functional.cross_entropy.html\n",
                "            # if multi dimensional input like in this case,\n",
                "            #   cross_entropy wants B by C by T\n",
                "            #   but here instead reshape\n",
                "            B, T, C = logits.shape\n",
                "            # to match cross_entropy input shape\n",
                "            #   i.e., (B * T) by C\n",
                "            logits = logits.view(B*T, C) # 2 dimensional\n",
                "            targets = targets.view(B*T) # 1 dimensional\n",
                "            loss = F.cross_entropy(logits, targets)\n",
                "\n",
                "        return logits, loss\n",
                "\n",
                "    def generate(self, idx, max_new_tokens):\n",
                "        # idx is (B, T) array of indices in the current context\n",
                "        # would generate tokens for max_new_tokens times\n",
                "\n",
                "        # discussed more in detail in another video\n",
                "        for _ in range(max_new_tokens):\n",
                "            # get the predictions\n",
                "            logits, loss = self(idx)\n",
                "            # focus only on the last time step\n",
                "            logits = logits[:, -1, :] # becomes (B, C)\n",
                "            # apply softmax to get probabilities\n",
                "            probs = F.softmax(logits, dim=-1) # (B, C)\n",
                "            # sample from the distribution\n",
                "            idx_next = torch.multinomial(probs, num_samples=1) # (B, 1)\n",
                "            # append sampled index to the running sequence\n",
                "            # whatever generated would be concatenated\n",
                "            # to the previous idx\n",
                "            # thus size of the idx would increase by one each time\n",
                "            idx = torch.cat((idx, idx_next), dim=1) # (B, T+1)\n",
                "            # dim=1 is the time dimension\n",
                "        return idx\n",
                "\n",
                "m = BigramLanguageModel(vocab_size)\n",
                "# xb : inputs\n",
                "# yb : targets\n",
                "logits, loss = m(xb, yb)\n",
                "print(\"logits.shape =\", logits.shape)\n",
                "print(\"loss =\", loss)\n",
                "\n",
                "# at first, it would not look meaningful\n",
                "print(decode(m.generate(idx = torch.zeros((1, 1), dtype=torch.long), max_new_tokens=100)[0].tolist()))\n",
                "\n"
            ],
            "metadata": {},
            "execution_count": null,
            "outputs": []
        },
        {
            "cell_type": "code",
            "source": [
                "# create a PyTorch optimizer\n",
                "# AdamW() : advanced. fast learning rates for smaller networks\n",
                "optimizer = torch.optim.AdamW(m.parameters(), lr=1e-3)\n",
                "# torch.optim.SGD() also frequently used\n",
                "\n"
            ],
            "metadata": {},
            "execution_count": null,
            "outputs": []
        },
        {
            "cell_type": "code",
            "source": [
                "batch_size = 32\n",
                "for steps in range(10000): # increase number of steps for good results...\n",
                "\n",
                "    # sample a batch of data\n",
                "    xb, yb = get_batch('train')\n",
                "\n",
                "    # evaluate the loss\n",
                "    logits, loss = m(xb, yb)\n",
                "    # zero out gradients from the previous step\n",
                "    optimizer.zero_grad(set_to_none=True)\n",
                "    loss.backward()\n",
                "    optimizer.step()\n",
                "\n",
                "    # printing loss.item() in the loop would be noisy\n",
                "    # somewhat depends on the luck\n",
                "\n",
                "print(loss.item())\n"
            ],
            "metadata": {},
            "execution_count": null,
            "outputs": []
        },
        {
            "cell_type": "markdown",
            "source": [
                "May start to look better now\n",
                "\n"
            ],
            "metadata": {}
        },
        {
            "cell_type": "code",
            "source": [
                "print(decode(m.generate(idx = torch.zeros((1, 1), dtype=torch.long), max_new_tokens=500)[0].tolist()))"
            ],
            "metadata": {},
            "execution_count": null,
            "outputs": []
        },
        {
            "cell_type": "markdown",
            "source": [
                "* To make tokens to talk each other, would use transformer\n",
                "* Also see : https://github.com/karpathy/ng-video-lecture/blob/master/bigram.py\n",
                "\n"
            ],
            "metadata": {}
        },
        {
            "cell_type": "markdown",
            "source": [
                "## The mathematical trick in self-attention"
            ],
            "metadata": {}
        },
        {
            "cell_type": "code",
            "source": [
                "# toy example illustrating how matrix multiplication can be used for a \"weighted aggregation\"\n",
                "# only previous tokens influence the current token\n",
                "# how to make the current token\n",
                "#   to communicate with past ones?\n",
                "# for now, average previous tokens' distributions\n",
                "#   to predict the new token\n",
                "torch.manual_seed(42)\n",
                "a = torch.tril(torch.ones(3, 3))\n",
                "a = a / torch.sum(a, 1, keepdim=True)\n",
                "b = torch.randint(0,10,(3,2)).float()\n",
                "c = a @ b\n",
                "print('a=')\n",
                "print(a)\n",
                "print('--')\n",
                "print('b=')\n",
                "print(b)\n",
                "print('--')\n",
                "print('c=')\n",
                "print(c)"
            ],
            "metadata": {},
            "execution_count": null,
            "outputs": []
        },
        {
            "cell_type": "code",
            "source": [
                "# consider the following toy example:\n",
                "\n",
                "torch.manual_seed(1337)\n",
                "B,T,C = 4,8,2 # batch, time, channels\n",
                "x = torch.randn(B,T,C)\n",
                "x.shape"
            ],
            "metadata": {},
            "execution_count": null,
            "outputs": []
        },
        {
            "cell_type": "code",
            "source": [
                "# We want x[b,t] = mean_{i<=t} x[b,i]\n",
                "xbow = torch.zeros((B,T,C))\n",
                "for b in range(B):\n",
                "    for t in range(T):\n",
                "        xprev = x[b,:t+1] # (t,C)\n",
                "        xbow[b,t] = torch.mean(xprev, 0)\n"
            ],
            "metadata": {},
            "execution_count": null,
            "outputs": []
        },
        {
            "cell_type": "code",
            "source": [
                "# version 2: using matrix multiply for a weighted aggregation\n",
                "wei = torch.tril(torch.ones(T, T))\n",
                "wei = wei / wei.sum(1, keepdim=True)\n",
                "xbow2 = wei @ x # (B, T, T) @ (B, T, C) ----> (B, T, C)\n",
                "torch.allclose(xbow, xbow2)"
            ],
            "metadata": {},
            "execution_count": null,
            "outputs": []
        },
        {
            "cell_type": "code",
            "source": [
                "# version 3: use Softmax\n",
                "tril = torch.tril(torch.ones(T, T))\n",
                "wei = torch.zeros((T,T))\n",
                "wei = wei.masked_fill(tril == 0, float('-inf'))\n",
                "wei = F.softmax(wei, dim=-1)\n",
                "xbow3 = wei @ x\n",
                "torch.allclose(xbow, xbow3)\n"
            ],
            "metadata": {},
            "execution_count": null,
            "outputs": []
        },
        {
            "cell_type": "code",
            "source": [
                "# version 4: self-attention!\n",
                "torch.manual_seed(1337)\n",
                "B,T,C = 4,8,32 # batch, time, channels\n",
                "x = torch.randn(B,T,C)\n",
                "\n",
                "# let's see a single Head perform self-attention\n",
                "head_size = 16\n",
                "key = nn.Linear(C, head_size, bias=False)\n",
                "query = nn.Linear(C, head_size, bias=False)\n",
                "value = nn.Linear(C, head_size, bias=False)\n",
                "k = key(x)   # (B, T, 16)\n",
                "q = query(x) # (B, T, 16)\n",
                "wei =  q @ k.transpose(-2, -1) # (B, T, 16) @ (B, 16, T) ---> (B, T, T)\n",
                "\n",
                "tril = torch.tril(torch.ones(T, T))\n",
                "#wei = torch.zeros((T,T))\n",
                "wei = wei.masked_fill(tril == 0, float('-inf'))\n",
                "wei = F.softmax(wei, dim=-1)\n",
                "\n",
                "v = value(x)\n",
                "out = wei @ v\n",
                "#out = wei @ x\n",
                "\n",
                "out.shape"
            ],
            "metadata": {},
            "execution_count": null,
            "outputs": []
        },
        {
            "cell_type": "code",
            "source": [
                "wei[0]"
            ],
            "metadata": {},
            "execution_count": null,
            "outputs": []
        },
        {
            "cell_type": "markdown",
            "source": [
                "Notes:\n",
                "- Attention is a **communication mechanism**. Can be seen as nodes in a directed graph looking at each other and aggregating information with a weighted sum from all nodes that point to them, with data-dependent weights.\n",
                "- There is no notion of space. Attention simply acts over a set of vectors. This is why we need to positionally encode tokens.\n",
                "- Each example across batch dimension is of course processed completely independently and never \"talk\" to each other\n",
                "- In an \"encoder\" attention block just delete the single line that does masking with `tril`, allowing all tokens to communicate. This block here is called a \"decoder\" attention block because it has triangular masking, and is usually used in autoregressive settings, like language modeling.\n",
                "- \"self-attention\" just means that the keys and values are produced from the same source as queries. In \"cross-attention\", the queries still get produced from x, but the keys and values come from some other, external source (e.g. an encoder module)\n",
                "- \"Scaled\" attention additional divides `wei` by 1/sqrt(head_size). This makes it so when input Q,K are unit variance, wei will be unit variance too and Softmax will stay diffuse and not saturate too much. Illustration below"
            ],
            "metadata": {}
        },
        {
            "cell_type": "code",
            "source": [
                "k = torch.randn(B,T,head_size)\n",
                "q = torch.randn(B,T,head_size)\n",
                "wei = q @ k.transpose(-2, -1) * head_size**-0.5"
            ],
            "metadata": {},
            "execution_count": null,
            "outputs": []
        },
        {
            "cell_type": "code",
            "source": [
                "k.var()"
            ],
            "metadata": {},
            "execution_count": null,
            "outputs": []
        },
        {
            "cell_type": "code",
            "source": [
                "q.var()"
            ],
            "metadata": {},
            "execution_count": null,
            "outputs": []
        },
        {
            "cell_type": "code",
            "source": [
                "wei.var()"
            ],
            "metadata": {},
            "execution_count": null,
            "outputs": []
        },
        {
            "cell_type": "code",
            "source": [
                "torch.softmax(torch.tensor([0.1, -0.2, 0.3, -0.2, 0.5]), dim=-1)"
            ],
            "metadata": {},
            "execution_count": null,
            "outputs": []
        },
        {
            "cell_type": "code",
            "source": [
                "torch.softmax(torch.tensor([0.1, -0.2, 0.3, -0.2, 0.5])*8, dim=-1) # gets too peaky, converges to one-hot"
            ],
            "metadata": {},
            "execution_count": null,
            "outputs": []
        },
        {
            "cell_type": "code",
            "source": [
                "class LayerNorm1d: # (used to be BatchNorm1d)\n",
                "\n",
                "  def __init__(self, dim, eps=1e-5, momentum=0.1):\n",
                "    self.eps = eps\n",
                "    self.gamma = torch.ones(dim)\n",
                "    self.beta = torch.zeros(dim)\n",
                "\n",
                "  def __call__(self, x):\n",
                "    # calculate the forward pass\n",
                "    xmean = x.mean(1, keepdim=True) # batch mean\n",
                "    xvar = x.var(1, keepdim=True) # batch variance\n",
                "    xhat = (x - xmean) / torch.sqrt(xvar + self.eps) # normalize to unit variance\n",
                "    self.out = self.gamma * xhat + self.beta\n",
                "    return self.out\n",
                "\n",
                "  def parameters(self):\n",
                "    return [self.gamma, self.beta]\n",
                "\n",
                "torch.manual_seed(1337)\n",
                "module = LayerNorm1d(100)\n",
                "x = torch.randn(32, 100) # batch size 32 of 100-dimensional vectors\n",
                "x = module(x)\n",
                "x.shape"
            ],
            "metadata": {},
            "execution_count": null,
            "outputs": []
        },
        {
            "cell_type": "code",
            "source": [
                "x[:,0].mean(), x[:,0].std() # mean,std of one feature across all batch inputs"
            ],
            "metadata": {},
            "execution_count": null,
            "outputs": []
        },
        {
            "cell_type": "code",
            "source": [
                "x[0,:].mean(), x[0,:].std() # mean,std of a single input from the batch, of its features"
            ],
            "metadata": {},
            "execution_count": null,
            "outputs": []
        },
        {
            "cell_type": "code",
            "source": [
                "# French to English translation example:\n",
                "\n",
                "# <--------- ENCODE ------------------><--------------- DECODE ----------------->\n",
                "# les r\u00e9seaux de neurones sont g\u00e9niaux! <START> neural networks are awesome!<END>\n",
                "\n"
            ],
            "metadata": {},
            "execution_count": null,
            "outputs": []
        },
        {
            "cell_type": "markdown",
            "source": [
                "### Full finished code, for reference\n",
                "\n",
                "You may want to refer directly to the git repo instead though."
            ],
            "metadata": {}
        },
        {
            "cell_type": "code",
            "source": [
                "import torch\n",
                "import torch.nn as nn\n",
                "from torch.nn import functional as F\n",
                "\n",
                "# hyperparameters\n",
                "batch_size = 16 # how many independent sequences will we process in parallel?\n",
                "block_size = 32 # what is the maximum context length for predictions?\n",
                "max_iters = 5000\n",
                "eval_interval = 100\n",
                "learning_rate = 1e-3\n",
                "device = 'cuda' if torch.cuda.is_available() else 'cpu'\n",
                "eval_iters = 200\n",
                "n_embd = 64\n",
                "n_head = 4\n",
                "n_layer = 4\n",
                "dropout = 0.0\n",
                "# ------------\n",
                "\n",
                "torch.manual_seed(1337)\n",
                "\n",
                "# wget https://raw.githubusercontent.com/karpathy/char-rnn/master/data/tinyshakespeare/input.txt\n",
                "with open('input.txt', 'r', encoding='utf-8') as f:\n",
                "    text = f.read()\n",
                "\n",
                "# here are all the unique characters that occur in this text\n",
                "chars = sorted(list(set(text)))\n",
                "vocab_size = len(chars)\n",
                "# create a mapping from characters to integers\n",
                "stoi = { ch:i for i,ch in enumerate(chars) }\n",
                "itos = { i:ch for i,ch in enumerate(chars) }\n",
                "encode = lambda s: [stoi[c] for c in s] # encoder: take a string, output a list of integers\n",
                "decode = lambda l: ''.join([itos[i] for i in l]) # decoder: take a list of integers, output a string\n",
                "\n",
                "# Train and test splits\n",
                "data = torch.tensor(encode(text), dtype=torch.long)\n",
                "n = int(0.9*len(data)) # first 90% will be train, rest val\n",
                "train_data = data[:n]\n",
                "val_data = data[n:]\n",
                "\n",
                "# data loading\n",
                "def get_batch(split):\n",
                "    # generate a small batch of data of inputs x and targets y\n",
                "    data = train_data if split == 'train' else val_data\n",
                "    ix = torch.randint(len(data) - block_size, (batch_size,))\n",
                "    x = torch.stack([data[i:i+block_size] for i in ix])\n",
                "    y = torch.stack([data[i+1:i+block_size+1] for i in ix])\n",
                "    x, y = x.to(device), y.to(device)\n",
                "    return x, y\n",
                "\n",
                "@torch.no_grad()\n",
                "def estimate_loss():\n",
                "    out = {}\n",
                "    model.eval()\n",
                "    for split in ['train', 'val']:\n",
                "        losses = torch.zeros(eval_iters)\n",
                "        for k in range(eval_iters):\n",
                "            X, Y = get_batch(split)\n",
                "            logits, loss = model(X, Y)\n",
                "            losses[k] = loss.item()\n",
                "        out[split] = losses.mean()\n",
                "    model.train()\n",
                "    return out\n",
                "\n",
                "class Head(nn.Module):\n",
                "    \"\"\" one head of self-attention \"\"\"\n",
                "\n",
                "    def __init__(self, head_size):\n",
                "        super().__init__()\n",
                "        self.key = nn.Linear(n_embd, head_size, bias=False)\n",
                "        self.query = nn.Linear(n_embd, head_size, bias=False)\n",
                "        self.value = nn.Linear(n_embd, head_size, bias=False)\n",
                "        self.register_buffer('tril', torch.tril(torch.ones(block_size, block_size)))\n",
                "\n",
                "        self.dropout = nn.Dropout(dropout)\n",
                "\n",
                "    def forward(self, x):\n",
                "        B,T,C = x.shape\n",
                "        k = self.key(x)   # (B,T,C)\n",
                "        q = self.query(x) # (B,T,C)\n",
                "        # compute attention scores (\"affinities\")\n",
                "        wei = q @ k.transpose(-2,-1) * C**-0.5 # (B, T, C) @ (B, C, T) -> (B, T, T)\n",
                "        wei = wei.masked_fill(self.tril[:T, :T] == 0, float('-inf')) # (B, T, T)\n",
                "        wei = F.softmax(wei, dim=-1) # (B, T, T)\n",
                "        wei = self.dropout(wei)\n",
                "        # perform the weighted aggregation of the values\n",
                "        v = self.value(x) # (B,T,C)\n",
                "        out = wei @ v # (B, T, T) @ (B, T, C) -> (B, T, C)\n",
                "        return out\n",
                "\n",
                "class MultiHeadAttention(nn.Module):\n",
                "    \"\"\" multiple heads of self-attention in parallel \"\"\"\n",
                "\n",
                "    def __init__(self, num_heads, head_size):\n",
                "        super().__init__()\n",
                "        self.heads = nn.ModuleList([Head(head_size) for _ in range(num_heads)])\n",
                "        self.proj = nn.Linear(n_embd, n_embd)\n",
                "        self.dropout = nn.Dropout(dropout)\n",
                "\n",
                "    def forward(self, x):\n",
                "        out = torch.cat([h(x) for h in self.heads], dim=-1)\n",
                "        out = self.dropout(self.proj(out))\n",
                "        return out\n",
                "\n",
                "class FeedFoward(nn.Module):\n",
                "    \"\"\" a simple linear layer followed by a non-linearity \"\"\"\n",
                "\n",
                "    def __init__(self, n_embd):\n",
                "        super().__init__()\n",
                "        self.net = nn.Sequential(\n",
                "            nn.Linear(n_embd, 4 * n_embd),\n",
                "            nn.ReLU(),\n",
                "            nn.Linear(4 * n_embd, n_embd),\n",
                "            nn.Dropout(dropout),\n",
                "        )\n",
                "\n",
                "    def forward(self, x):\n",
                "        return self.net(x)\n",
                "\n",
                "class Block(nn.Module):\n",
                "    \"\"\" Transformer block: communication followed by computation \"\"\"\n",
                "\n",
                "    def __init__(self, n_embd, n_head):\n",
                "        # n_embd: embedding dimension, n_head: the number of heads we'd like\n",
                "        super().__init__()\n",
                "        head_size = n_embd // n_head\n",
                "        self.sa = MultiHeadAttention(n_head, head_size)\n",
                "        self.ffwd = FeedFoward(n_embd)\n",
                "        self.ln1 = nn.LayerNorm(n_embd)\n",
                "        self.ln2 = nn.LayerNorm(n_embd)\n",
                "\n",
                "    def forward(self, x):\n",
                "        x = x + self.sa(self.ln1(x))\n",
                "        x = x + self.ffwd(self.ln2(x))\n",
                "        return x\n",
                "\n",
                "# super simple bigram model\n",
                "class BigramLanguageModel(nn.Module):\n",
                "\n",
                "    def __init__(self):\n",
                "        super().__init__()\n",
                "        # each token directly reads off the logits for the next token from a lookup table\n",
                "        self.token_embedding_table = nn.Embedding(vocab_size, n_embd)\n",
                "        self.position_embedding_table = nn.Embedding(block_size, n_embd)\n",
                "        self.blocks = nn.Sequential(*[Block(n_embd, n_head=n_head) for _ in range(n_layer)])\n",
                "        self.ln_f = nn.LayerNorm(n_embd) # final layer norm\n",
                "        self.lm_head = nn.Linear(n_embd, vocab_size)\n",
                "\n",
                "    def forward(self, idx, targets=None):\n",
                "        B, T = idx.shape\n",
                "\n",
                "        # idx and targets are both (B,T) tensor of integers\n",
                "        tok_emb = self.token_embedding_table(idx) # (B,T,C)\n",
                "        pos_emb = self.position_embedding_table(torch.arange(T, device=device)) # (T,C)\n",
                "        x = tok_emb + pos_emb # (B,T,C)\n",
                "        x = self.blocks(x) # (B,T,C)\n",
                "        x = self.ln_f(x) # (B,T,C)\n",
                "        logits = self.lm_head(x) # (B,T,vocab_size)\n",
                "\n",
                "        if targets is None:\n",
                "            loss = None\n",
                "        else:\n",
                "            B, T, C = logits.shape\n",
                "            logits = logits.view(B*T, C)\n",
                "            targets = targets.view(B*T)\n",
                "            loss = F.cross_entropy(logits, targets)\n",
                "\n",
                "        return logits, loss\n",
                "\n",
                "    def generate(self, idx, max_new_tokens):\n",
                "        # idx is (B, T) array of indices in the current context\n",
                "        for _ in range(max_new_tokens):\n",
                "            # crop idx to the last block_size tokens\n",
                "            idx_cond = idx[:, -block_size:]\n",
                "            # get the predictions\n",
                "            logits, loss = self(idx_cond)\n",
                "            # focus only on the last time step\n",
                "            logits = logits[:, -1, :] # becomes (B, C)\n",
                "            # apply softmax to get probabilities\n",
                "            probs = F.softmax(logits, dim=-1) # (B, C)\n",
                "            # sample from the distribution\n",
                "            idx_next = torch.multinomial(probs, num_samples=1) # (B, 1)\n",
                "            # append sampled index to the running sequence\n",
                "            idx = torch.cat((idx, idx_next), dim=1) # (B, T+1)\n",
                "        return idx\n",
                "\n",
                "model = BigramLanguageModel()\n",
                "m = model.to(device)\n",
                "# print the number of parameters in the model\n",
                "print(sum(p.numel() for p in m.parameters())/1e6, 'M parameters')\n",
                "\n",
                "# create a PyTorch optimizer\n",
                "optimizer = torch.optim.AdamW(model.parameters(), lr=learning_rate)\n",
                "\n",
                "for iter in range(max_iters):\n",
                "\n",
                "    # every once in a while evaluate the loss on train and val sets\n",
                "    if iter % eval_interval == 0 or iter == max_iters - 1:\n",
                "        losses = estimate_loss()\n",
                "        print(f\"step {iter}: train loss {losses['train']:.4f}, val loss {losses['val']:.4f}\")\n",
                "\n",
                "    # sample a batch of data\n",
                "    xb, yb = get_batch('train')\n",
                "\n",
                "    # evaluate the loss\n",
                "    logits, loss = model(xb, yb)\n",
                "    optimizer.zero_grad(set_to_none=True)\n",
                "    loss.backward()\n",
                "    optimizer.step()\n",
                "\n",
                "# generate from the model\n",
                "context = torch.zeros((1, 1), dtype=torch.long, device=device)\n",
                "print(decode(m.generate(context, max_new_tokens=2000)[0].tolist()))\n"
            ],
            "metadata": {},
            "execution_count": null,
            "outputs": []
        },
        {
            "cell_type": "code",
            "source": [],
            "metadata": {},
            "execution_count": null,
            "outputs": []
        }
    ]
}