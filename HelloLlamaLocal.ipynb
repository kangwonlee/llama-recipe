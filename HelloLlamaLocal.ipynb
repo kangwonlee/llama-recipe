{
    "cells": [
        {
            "cell_type": "markdown",
            "metadata": {},
            "source": [
                "ref : https://github.com/facebookresearch/llama-recipes/blob/main/demo_apps/HelloLlamaLocal.ipynb"
            ]
        },
        {
            "cell_type": "code",
            "execution_count": null,
            "metadata": {},
            "outputs": [],
            "source": [
                "# \uc774 \uc140\uc740 GDrive \uc640 Colab \uc744 \uc5f0\uacb0\n",
                "# id \uc120\ud0dd\n",
                "# \uad8c\ud55c [\ud5c8\uc6a9]\n",
                "from google.colab import drive\n",
                "drive.mount('/content/drive')"
            ]
        },
        {
            "cell_type": "code",
            "execution_count": null,
            "metadata": {},
            "outputs": [],
            "source": [
                "%%bash\n",
                "pip install --extra-index-url https://download.pytorch.org/whl/test/cu118 llama-recipes\n"
            ]
        },
        {
            "cell_type": "markdown",
            "metadata": {},
            "source": [
                "## This demo app shows<br>\ub0b4\uc6a9:\n",
                "* How to run Llama2 locally on a Mac using llama-cpp-python and the llama-cpp's quantized Llama2 model<br>Llama2 \ub97c Mac \uc5d0\uc11c \uc2e4\ud589\uc2dc\ud0a4\ub294 \ubc95. `llama-cpp-python`\uacfc `llama-cpp`\uc758 \uc591\uc790\ud654 Llama2 \ubaa8\ub378\uc744 \uc0ac\uc6a9.\n",
                "* How to use LangChain to ask Llama general questions<br>`LangChain` \uc744 \uc368\uc11c `Llama`\uc5d0\uac8c \uc77c\ubc18\uc801\uc778 \uc9c8\ubb38\uc744 \ud558\ub294 \ubc95.\n",
                "* How to use LangChain to load a recent PDF doc - the Llama2 paper pdf - and ask questions about it. This is the well known RAG (Retrieval Augmented Generation) method to let LLM such as Llama2 be able to answer questions about the data not publicly available when Llama2 was trained, or about your own data. RAG is one way to prevent LLM's hallucination<br>LangChain\uc744 \uc368\uc11c \ucd5c\uadfc\uc758 PDF \ubb38\uc11c - Llama2 \ub17c\ubb38 pdf - \ub97c \uc77d\ub294 \ubc95\uacfc \uad00\ub828 \uc9c8\ubb38\uc744 \ud558\ub294 \ubc95. \uc774\uac83\uc774 \uc798 \uc54c\ub824\uc9c4 RAG (Retrieval Augmented Generation) \ubc95\uc73c\ub85c LLM \ud6c8\ub828 \ub2f9\uc2dc\uc5d0\ub294 \uacf5\uac1c\ub418\uc9c0 \uc54a\uc558\uac70\ub098 \uc790\uc2e0\ub9cc\uc758 data\uc5d0 \uad00\ud574 Llama2\uc640 \uac19\uc740 LLM\uc774 \ub2f5\ud560 \uc218 \uc788\ub3c4\ub85d \ud558\ub294 \ubc29\ubc95\uc784. RAG \ub294 LLM \uc758 \ud658\uc0c1\ud604\uc0c1\uc744 \ubc29\uc9c0\ud558\ub294 \ud55c\uac00\uc9c0 \ubc29\ubc95\uc784."
            ]
        },
        {
            "cell_type": "markdown",
            "metadata": {},
            "source": [
                "### If you have a shared Google Drive link to the parameter file<br>\uacf5\uc720\ub41c \ub9e4\uac1c\ubcc0\uc218 \ud30c\uc77c\uc758 Google Drive link \uac00 \uc788\ub294 \uacbd\uc6b0\n",
                "* \ud574\ub2f9 \ud3f4\ub354\uc758 shortcut \uc744 \uc790\uc2e0\uc758 Googlr Drive \ub85c \uc0dd\uc131\n",
                "* \uc774 \uacbd\uc6b0\ub294 \ub2e4\uc6b4\ub85c\ub4dc \ud560 \ud544\uc694\uac00 \uc5c6\uc744 \uac83\uc784\n",
                "\n"
            ]
        },
        {
            "cell_type": "markdown",
            "metadata": {},
            "source": [
                "### If you want to independently run the model<br>\ub3c5\ub9bd\uc801\uc73c\ub85c \ud574\ub2f9 \ubaa8\ub378\uc744 \uc2e4\ud589\uc2dc\ucf1c \ubcf4\uace0 \uc2f6\uc740 \uacbd\uc6b0\n",
                "\n",
                "\n",
                "* [\uc5ec\uae30](https://colab.research.google.com/corgiredirector?site=https%3A%2F%2Fdrive.google.com%2Ffile%2Fd%2F1afPv3HOy73BE2MoYCgYJvBDeQNa9rZbj%2Fview%3Fusp%3Dsharing) \uc5d0\uc11c \"\uc591\uc790\ud654\"\ub41c \ubaa8\ub378 \ud30c\uc77c\uc744 \ub2e4\uc6b4\ub85c\ub4dc\n",
                "* Google Drive \uc5d0 \uc801\ub2f9\ud55c \ud3f4\ub354\ub97c \ub9cc\ub4e6\n",
                "    * \uc608\ub97c \ub4e4\uc5b4 `llama2_7gb`(LLAMA2_7GB \uc758 \uc18c\ubb38\uc790)\n",
                "* \ub2e4\uc6b4\ub85c\ub4dc\ud55c \ud30c\uc77c\uc744 \ud574\ub2f9 \ud3f4\ub354\uc5d0 upload\n",
                "* \uc2dc\uac04\uc774 \ub9ce\uc774 \uac78\ub9ac\ubbc0\ub85c \uc544\ub798\uc758 \uc808\ucc28\uc640 \ubcd1\ud589 \ucd94\uc9c4"
            ]
        },
        {
            "cell_type": "markdown",
            "metadata": {},
            "source": [
                "Install necessary requirements and import packages we will be using in this example.<br>\n",
                "\ud544\uc694\ud55c \ub2e4\ub978 \uc18c\ud504\ud2b8\uc6e8\uc5b4\uc640 \uc774 \uc608\uc81c\uc5d0\uc11c \uc0ac\uc6a9\ud560 \ud328\ud0a4\uc9c0\ub97c \uc124\uce58.\n",
                "- [llama-cpp-python](https://github.com/abetlen/llama-cpp-python) a simple Python bindings for [llama.cpp](https://github.com/ggerganov/llama.cpp) library<br>[llama.cpp](https://github.com/ggerganov/llama.cpp)\uc640 \ud30c\uc774\uc36c\uc744 \uc5f0\uacb0\ud558\ub294 \uac04\ub2e8\ud55c \uc18c\ud504\ud2b8\uc6e8\uc5b4\n",
                "- pypdf gives us the ability to work with pdfs<br>pypdf \ub294 pdf \ub85c \uc791\uc5c5\ud558\ub294 \ub2a5\ub825\uc744 \ucd94\uac00\n",
                "- sentence-transformers for text embeddings<br>\ub2e8\uc5b4\ub97c \uc22b\uc790\ub85c \ubc14\uafb8\ub294 text embedding \uc744 \uc704\ud55c sentence-transformer\n",
                "- chromadb gives us database capabilities<br>chromadb \ub294 \ub370\uc774\ud130\ubca0\uc774\uc2a4\n",
                "- langchain provides necessary RAG tools for this demo<br>langchain \uc774 \uc608\uc81c\ub97c \uc704\ud574 \ud544\uc694\ud55c RAG \uae30\ub2a5\uc744 \uc81c\uacf5"
            ]
        },
        {
            "cell_type": "code",
            "execution_count": null,
            "metadata": {},
            "outputs": [],
            "source": [
                "%%writefile requirements.txt\n",
                "accelerate\n",
                "appdirs\n",
                "bitsandbytes\n",
                "black\n",
                "black[jupyter]\n",
                "chromadb\n",
                "datasets\n",
                "fire\n",
                "langchain\n",
                "llama-cpp-python\n",
                "loralib\n",
                "optimum\n",
                "peft\n",
                "py7zr\n",
                "pypdf\n",
                "scipy\n",
                "sentence-transformers\n",
                "sentencepiece\n",
                "torch>=2.0.1\n",
                "transformers>=4.31.0\n",
                "\n"
            ]
        },
        {
            "cell_type": "code",
            "execution_count": null,
            "metadata": {},
            "outputs": [],
            "source": [
                "%%bash\n",
                "pip install -r requirements.txt\n",
                "\n"
            ]
        },
        {
            "cell_type": "code",
            "execution_count": null,
            "metadata": {},
            "outputs": [],
            "source": [
                "# install all the required packages for the demo\n",
                "# !CMAKE_ARGS=\"-DLLAMA_METAL=on\"\n",
                "# !FORCE_CMAKE=1\n",
                "# !pip install --force-reinstall \"typing-extensions<4.6.0\" \\\n",
                "#     \"jedi>=0.16\" cohere openai tiktoken \"numpy<1.26,>=1.20\" \\\n",
                "#     fsspec==2023.6.0 google-auth==2.17.3 torch==2.1.0 \\\n",
                "#     \"pillow<10.1.0,>=8.3.2\" \"wrapt<1.15,>=1.11.0\" \"protobuf<4.21,>=3.20.3\" \\\n",
                "#     fastapi uvicorn kaleido python-multipart \\\n",
                "#     llama-cpp-python \\\n",
                "#     pypdf sentence-transformers chromadb langchain sentence-transformers\n",
                "\n"
            ]
        },
        {
            "cell_type": "code",
            "execution_count": null,
            "metadata": {},
            "outputs": [],
            "source": [
                "from langchain.llms import LlamaCpp\n",
                "from langchain.chains import LLMChain\n",
                "from langchain.callbacks.manager import CallbackManager\n",
                "from langchain.callbacks.streaming_stdout import StreamingStdOutCallbackHandler\n",
                "from langchain.prompts import PromptTemplate"
            ]
        },
        {
            "cell_type": "markdown",
            "metadata": {},
            "source": [
                "Next, initialize the langchain `CallBackManager`. This handles callbacks from Langchain and for this example we will use token-wise streaming so the answer gets generated token by token when Llama is answering your question.<br>\n",
                "\ub2e4\uc74c\uc73c\ub85c `langchain` \ubaa8\ub4c8\uc758 `CallBackManager` \ub97c \ucd08\uae30\ud654. \uc774\ub294 Langchain \uc73c\ub85c\ubd80\ud130\uc758 callback\uc744 \ub2e4\ub8e8\ub294\ub370 \uc774 \uc608\uc81c\uc5d0\uc11c\ub294 \ud1a0\ud070(\ub2e8\uc5b4\ub97c \uc22b\uc790\ub85c \ubc14\uafbc \uac83) \uc758 stream\uc744 \uc0ac\uc6a9\ud560 \uac83\uc774\ubbc0\ub85c Llama \uac00 \uc5ec\ub7ec\ubd84\uc758 \uc9c8\ubb38\uc5d0 \ub2f5\ud560 \ub54c\ub294 token \uc744 \ud558\ub098\uc529 \uc0dd\uc131\ud560 \uac83\uc784."
            ]
        },
        {
            "cell_type": "code",
            "execution_count": null,
            "metadata": {},
            "outputs": [],
            "source": [
                "# for token-wise streaming so you'll see the answer gets generated token by token when Llama is answering your question\n",
                "callback_manager = CallbackManager([StreamingStdOutCallbackHandler()])"
            ]
        },
        {
            "cell_type": "markdown",
            "metadata": {},
            "source": [
                "\n",
                "Set up the Llama 2 model.\n",
                "\n",
                "Replace `<path-to-llama-gguf-file>` with the path either to your downloaded quantized model file [here](https://drive.google.com/file/d/1afPv3HOy73BE2MoYCgYJvBDeQNa9rZbj/view?usp=sharing),\n",
                "\n",
                "or to the `ggml-model-q4_0.gguf` file built with the following commands:\n",
                "\n",
                "```bash\n",
                "git clone https://github.com/ggerganov/llama.cpp\n",
                "cd llama.cpp\n",
                "python3 -m pip install -r requirements.txt\n",
                "python convert.py <path_to_your_downloaded_llama-2-13b_model>\n",
                "./quantize <path_to_your_downloaded_llama-2-13b_model>/ggml-model-f16.gguf <path_to_your_downloaded_llama-2-13b_model>/ggml-model-q4_0.gguf q4_0\n",
                "\n",
                "```\n",
                "For more info see https://python.langchain.com/docs/integrations/llms/llamacpp"
            ]
        },
        {
            "cell_type": "markdown",
            "metadata": {},
            "source": [
                "* \uc5ec\uae30\uc11c\ubd80\ud130\ub294 \ud30c\uc77c upload \uac00 \ub05d\ub09c \ud6c4 \uc9c4\ud589"
            ]
        },
        {
            "cell_type": "code",
            "execution_count": null,
            "metadata": {},
            "outputs": [],
            "source": [
                "# \uc774 \uc140\uc740 GDrive \uc640 Colab \uc744 \uc5f0\uacb0\n",
                "# id \uc120\ud0dd\n",
                "# \uad8c\ud55c [\ud5c8\uc6a9]\n",
                "from google.colab import drive\n",
                "drive.mount('/content/drive')"
            ]
        },
        {
            "cell_type": "markdown",
            "metadata": {},
            "source": [
                "* \uc67c\ucabd \ub9c8\uc9c0\ub9c9 \uc544\uc774\ucf58\uc73c\ub85c drive/MyDrive/ \uc544\ub798 \ud574\ub2f9 \ud30c\uc77c\uc758 \uc704\uce58\ub97c \ud655\uc778"
            ]
        },
        {
            "cell_type": "code",
            "execution_count": null,
            "metadata": {},
            "outputs": [],
            "source": [
                "%%bash\n",
                "git clone https://github.com/ggerganov/llama.cpp\n",
                "cd llama.cpp\n",
                "python3 -m pip install -r requirements.txt\n",
                "# python convert.py ./drive/MyDrive/llama_7gb/ggml-model-q4_0.gguf\n",
                "# ./quantize ./drive/MyDrive/llama_7gb/ggml-model-f16.gguf ./drive/MyDrive/llama_7gb/ggml-model-q4_0.gguf q4_0"
            ]
        },
        {
            "cell_type": "code",
            "execution_count": null,
            "metadata": {},
            "outputs": [],
            "source": [
                "\n",
                "llm = LlamaCpp(\n",
                "    model_path=\"./drive/MyDrive/llama_7gb/ggml-model-q4_0.gguf\",\n",
                "    temperature=0.0,\n",
                "    top_p=1,\n",
                "    n_ctx=6000,\n",
                "    callback_manager=callback_manager,\n",
                "    verbose=True,\n",
                ")"
            ]
        },
        {
            "cell_type": "markdown",
            "metadata": {},
            "source": [
                "With the model set up, you are now ready to ask some questions.<br>\uc774 \ubaa8\ub378\uc774 \ucd08\uae30\ud654\ub418\uba74, \uc9c8\ubb38\uc744 \ud560 \uc900\ube44\uac00 \ub41c \uac83\uc784.\n",
                "\n",
                "Here is an example of the simplest way to ask the model some general questions.<br>\uc5ec\uae30 \uc77c\ubc18\uc801\uc778 \uc9c8\ubb38\uc744 \ud558\ub294 \uac00\uc7a5 \uac04\ub2e8\ud55c \uc608\ub97c \ub4e6"
            ]
        },
        {
            "cell_type": "code",
            "execution_count": null,
            "metadata": {},
            "outputs": [],
            "source": [
                "\n",
                "question = \"\ud30c\uc774\uc36c \ud504\ub85c\uadf8\ub798\ubc0d \uc5b8\uc5b4\ub294 \ub204\uac00 \ub9cc\ub4e4\uc5c8\ub294\uac00?\"\n",
                "answer = llm(question)"
            ]
        },
        {
            "cell_type": "code",
            "execution_count": null,
            "metadata": {},
            "outputs": [],
            "source": [
                "\n",
                "question = \"who wrote the book Innovator's dilemma?\"\n",
                "answer = llm(question)"
            ]
        },
        {
            "cell_type": "markdown",
            "metadata": {},
            "source": [
                "Alternatively, you can use LangChain's `PromptTemplate` for some flexibility in your prompts and questions.<br>\ub610\ub294 LangChain\uc758 `PromptTemplate`\ub97c \uc0ac\uc6a9\ud558\uc5ec \ud504\ub86c\ud504\ud2b8\uc640 \uc9c8\ubb38\uc5d0 \uc720\uc5f0\uc131\uc744 \ubd80\uc5ec\ud560 \uc218 \uc788\uc74c.\n",
                "\n",
                "For more information on LangChain's prompt template visit this [link](https://python.langchain.com/docs/modules/model_io/prompts/prompt_templates/)<br>LangChain \uc758 `PromptTemplate`\uc5d0 \uad00\ud574\uc11c\ub294 [\uc5ec\uae30](https://python.langchain.com/docs/modules/model_io/prompts/prompt_templates/)\ub97c \ucc38\uace0\n",
                "\n"
            ]
        },
        {
            "cell_type": "code",
            "execution_count": null,
            "metadata": {},
            "outputs": [],
            "source": [
                "# a more flexible way to ask Llama general questions using LangChain's PromptTemplate and LLMChain\n",
                "prompt = PromptTemplate.from_template(\n",
                "    \"who wrote {book}?\"\n",
                ")\n",
                "chain = LLMChain(llm=llm, prompt=prompt)\n",
                "answer = chain.run(\"innovator's dilemma\")"
            ]
        },
        {
            "cell_type": "markdown",
            "metadata": {},
            "source": [
                "Now, let's see how Llama2 hallucinates, because it did not have knowledge about Llama2 at the time it was trained.<br>\n",
                "\uc774\uc81c Llama2 \uc758 \ud658\uc0c1 \ud604\uc0c1\uc744 \uad00\ucc30. \ud6c8\ub828 \ub370\uc774\ud130\uc5d0\ub294 \ud3ec\ud568\ub418\uc5b4 \uc788\uc9c0 \uc54a\uc740 \ub0b4\uc6a9\uc774\uae30 \ub54c\ubb38<br>\n",
                "By default it behaves like a know-it-all expert who will not say \"I don't know\".<br>\n",
                "\uae30\ubcf8\uc801\uc73c\ub85c\ub294 \ubaa8\ub4e0\uac83\uc744 \uc544\ub294 \uc804\ubb38\uac00 \ucc98\ub7fc \ud589\ub3d9\ud558\ubbc0\ub85c \"\ub098\ub294 \ubaa8\ub974\uaca0\ub294\ub370\" \ub77c\uace0 \ub9d0\ud558\uc9c0 \uc54a\uc73c\ub824\uace0 \ud568"
            ]
        },
        {
            "cell_type": "code",
            "execution_count": null,
            "metadata": {},
            "outputs": [],
            "source": [
                "\n",
                "prompt = PromptTemplate.from_template(\n",
                "    \"What is {what}?\"\n",
                ")\n",
                "chain = LLMChain(llm=llm, prompt=prompt)\n",
                "answer = chain.run(\"llama2\")"
            ]
        },
        {
            "cell_type": "markdown",
            "metadata": {},
            "source": [
                "One way we can fix the hallucinations is to use RAG, to augment it with more recent or custom data that holds the information for it to answer correctly.<br>\n",
                "\ud658\uc0c1 \ud604\uc0c1\uc744 \ub9c9\uae30 \uc704\ud55c \ud55c\uac00\uc9c0 \ubc29\ubc95\uc73c\ub85c RAG \ub97c \uc0ac\uc6a9\ud558\uc5ec \ub354 \ucd5c\uadfc\uc758 \ub610\ub294 \ubc14\ub978 \ub2f5\uc5d0 \ub300\ud55c \uc815\ubcf4\ub97c \ub2f4\uc740 \ub9de\ucda4 \ub370\uc774\ud130\ub97c \uc81c\uacf5\ud558\ub294 \uac83\uc784.\n",
                "\n",
                "First we load the Llama2 paper using LangChain's [PDF loader](https://python.langchain.com/docs/modules/data_connection/document_loaders/pdf)<br>\n",
                "\uc6b0\uc120 Llama2 \ub17c\ubb38\uc744 LangChain \uc758 [PDF loader](https://python.langchain.com/docs/modules/data_connection/document_loaders/pdf)\ub85c \uc77d\uc74c\n",
                "\n"
            ]
        },
        {
            "cell_type": "code",
            "execution_count": null,
            "metadata": {},
            "outputs": [],
            "source": [
                "import pathlib\n",
                "pdf_path = pathlib.Path.cwd() / 'drive'/ 'MyDrive' / 'llama_7gb' / 'llama2.pdf'\n",
                "assert pdf_path.exists()\n",
                "assert pdf_path.is_file()\n",
                "\n"
            ]
        },
        {
            "cell_type": "code",
            "execution_count": null,
            "metadata": {},
            "outputs": [],
            "source": [
                "\n",
                "from langchain.document_loaders import PyPDFLoader\n",
                "loader = PyPDFLoader(str(pdf_path))\n",
                "documents = loader.load()"
            ]
        },
        {
            "cell_type": "code",
            "execution_count": null,
            "metadata": {},
            "outputs": [],
            "source": [
                "# quick check on the loaded document for the correct pages etc\n",
                "print(len(documents), documents[0].page_content[0:300])"
            ]
        },
        {
            "cell_type": "markdown",
            "metadata": {},
            "source": [
                "Next we will store our documents.<br>\n",
                "\ub2e4\uc74c\uc73c\ub85c \uc6b0\ub9ac\uc758 \ubb38\uc11c\ub97c \uc800\uc7a5\ud560 \uac83\uc784<br>\n",
                "There are more than 30 vector stores (DBs) supported by LangChain.<br>\n",
                "LangChain \uc740 30 \uac00\uc9c0 \uc774\uc0c1\uc758 vector store \ub97c \uc9c0\uc6d0\ud568<br>\n",
                "For this example we will use [Chroma](https://python.langchain.com/docs/integrations/vectorstores/chroma) which is light-weight and in memory so it's easy to get started with.<br>\n",
                "\uc774 \uc608\ub97c \uc704\ud574\uc11c\ub294 [Chroma](https://python.langchain.com/docs/integrations/vectorstores/chroma) \ub97c \uc0ac\uc6a9\ud560 \uac83\uc784. \uc774\ub294 \uac00\ubccd\uace0 \uba54\ubaa8\ub9ac\uc5d0 \uc0c1\uc8fc\ud558\ubbc0\ub85c \uc9c4\uc785 \uc0ac\ub840\ub85c \uc801\ub2f9\ud568.\n",
                "For other vector stores especially if you need to store a large amount of data - see https://python.langchain.com/docs/integrations/vectorstores<br>\n",
                "\ub2e4\ub978 vector store, \ud2b9\ud788 \ub300\ub7c9\uc758 \ub370\uc774\ud130\ub97c \uc800\uc7a5\ud560 \ud544\uc694\uac00 \uc788\uc744 \uacbd\uc6b0 : https://python.langchain.com/docs/integrations/vectorstores\n",
                "\n",
                "We will also import the `HuggingFaceEmbeddings` and `RecursiveCharacterTextSplitter` to assist in storing the documents.<br>\n",
                "\ubb38\uc11c \uc800\uc7a5\uc744 \ub3d5\uae30 \uc704\ud574 `HuggingFaceEmbeddings` \uacfc `RecursiveCharacterTextSplitter` \ub3c4 import \ud560 \uac83\uc784\n"
            ]
        },
        {
            "cell_type": "code",
            "execution_count": null,
            "metadata": {},
            "outputs": [],
            "source": [
                "\n",
                "from langchain.vectorstores import Chroma\n",
                "\n",
                "# embeddings are numerical representations of the question and answer text\n",
                "from langchain.embeddings import HuggingFaceEmbeddings\n",
                "\n",
                "# use a common text splitter to split text into chunks\n",
                "from langchain.text_splitter import RecursiveCharacterTextSplitter"
            ]
        },
        {
            "cell_type": "markdown",
            "metadata": {},
            "source": [
                "\n",
                "To store the documents, we will need to split them into chunks using [`RecursiveCharacterTextSplitter`](https://python.langchain.com/docs/modules/data_connection/document_transformers/text_splitters/recursive_text_splitter) and create vector representations of these chunks using [`HuggingFaceEmbeddings`](https://www.google.com/search?q=langchain+hugging+face+embeddings&sca_esv=572890011&ei=ARUoZaH4LuumptQP48ah2Ac&oq=langchian+hugg&gs_lp=Egxnd3Mtd2l6LXNlcnAiDmxhbmdjaGlhbiBodWdnKgIIADIHEAAYgAQYCjIHEAAYgAQYCjIHEAAYgAQYCjIHEAAYgAQYCjIHEAAYgAQYCjIHEAAYgAQYCjIHEAAYgAQYCjIHEAAYgAQYCjIHEAAYgAQYCjIHEAAYgAQYCkjeHlC5Cli5D3ABeAGQAQCYAV6gAb4CqgEBNLgBAcgBAPgBAcICChAAGEcY1gQYsAPiAwQYACBBiAYBkAYI&sclient=gws-wiz-serp) on them before storing them into our vector database.<br>\n",
                "\ud574\ub2f9 \ubb38\uc11c\ub97c \uc800\uc7a5\ud558\uae30 \uc704\ud574 [`RecursiveCharacterTextSplitter`](https://python.langchain.com/docs/modules/data_connection/document_transformers/text_splitters/recursive_text_splitter)\ub85c \uc5ec\ub7ec chunk \ub369\uc5b4\ub9ac\ub85c \ub098\ub204\uace0 \ubca1\ud130 \ub370\uc774\ud130\ubca0\uc774\uc2a4\uc5d0 \uc800\uc7a5\ud558\uae30 \uc804\uc5d0 [`HuggingFaceEmbeddings`](https://www.google.com/search?q=langchain+hugging+face+embeddings&sca_esv=572890011&ei=ARUoZaH4LuumptQP48ah2Ac&oq=langchian+hugg&gs_lp=Egxnd3Mtd2l6LXNlcnAiDmxhbmdjaGlhbiBodWdnKgIIADIHEAAYgAQYCjIHEAAYgAQYCjIHEAAYgAQYCjIHEAAYgAQYCjIHEAAYgAQYCjIHEAAYgAQYCjIHEAAYgAQYCjIHEAAYgAQYCjIHEAAYgAQYCjIHEAAYgAQYCkjeHlC5Cli5D3ABeAGQAQCYAV6gAb4CqgEBNLgBAcgBAPgBAcICChAAGEcY1gQYsAPiAwQYACBBiAYBkAYI&sclient=gws-wiz-serp)\ub85c \uc774\ub7ec\ud55c chunk \ub369\uc5b4\ub9ac\ub4e4\uc758 \ubca1\ud130 \ud45c\ud604\uc744 \ub9cc\ub4e4 \ud544\uc694\uac00 \uc788\uc744 \uac83\uc784.\n"
            ]
        },
        {
            "cell_type": "markdown",
            "metadata": {},
            "source": [
                "## Following example does not work in Colab yet<br>\uc544\ub798\uc758 \uc608\ub294 Colab \uc5d0\uc11c\ub294 \uc544\uc9c1 \uc791\ub3d9\ud558\uc9c0 \uc54a\uc74c\n",
                "\n"
            ]
        },
        {
            "cell_type": "code",
            "execution_count": null,
            "metadata": {},
            "outputs": [],
            "source": [
                "# split the loaded documents into chunks\n",
                "text_splitter = RecursiveCharacterTextSplitter(chunk_size=1000, chunk_overlap=20)\n",
                "all_splits = text_splitter.split_documents(documents)\n",
                "\n",
                "# create the vector db to store all the split chunks as embeddings\n",
                "embeddings = HuggingFaceEmbeddings(\n",
                "    model_name='intfloat/multilingual-e5-large'\n",
                ")\n",
                "vectordb = Chroma.from_documents(\n",
                "    documents=all_splits,\n",
                "    embedding=embeddings,\n",
                ")"
            ]
        },
        {
            "cell_type": "markdown",
            "metadata": {},
            "source": [
                "\n",
                "We then use ` RetrievalQA` to retrieve the documents from the vector database and give the model more context on Llama 2, thereby increasing its knowledge.<br>\ub2e4\uc74c\uc73c\ub85c `RetrievalQA`\ub97c \uc0ac\uc6a9\ud558\uc5ec \ubca1\ud130 \ub370\uc774\ud130\ubca0\uc774\uc2a4\ub85c\ubd80\ud130 \ubb38\uc11c\ub97c \uc77d\uc5b4\uc640\uc11c \uc5b8\uc5b4\ubaa8\ub378\uc5d0 Llama 2 \uc5d0 \ub300\ud55c \ub9e5\ub77d\uc744 \uc804\ub2ec\ud558\uc5ec \uc9c0\uc2dd\uc744 \ub298\ub9bc."
            ]
        },
        {
            "cell_type": "code",
            "execution_count": null,
            "metadata": {},
            "outputs": [],
            "source": [
                "# use another LangChain's chain, RetrievalQA, to associate Llama with the loaded documents stored in the vector db\n",
                "from langchain.chains import RetrievalQA\n",
                "\n",
                "qa_chain = RetrievalQA.from_chain_type(\n",
                "    llm,\n",
                "    retriever=vectordb.as_retriever()\n",
                ")\n",
                "\n"
            ]
        },
        {
            "cell_type": "markdown",
            "metadata": {},
            "source": [
                "For each question, LangChain performs a semantic similarity search of it in the vector db, then passes the search results as the context to the model to answer the question.<br>\uac01\uac01\uc758 \uc9c8\ubb38\uc5d0 \ub300\ud574 LangChain \uc740 vector db \uc548\uc5d0\uc11c \uc758\ubbf8 \uc720\uc0ac\ub3c4 \uac80\uc0c9\uc744 \uc2e4\uc2dc\ud558\uace0, \uc9c8\ubb38\uc5d0 \ub2f5\ud558\uae30 \uc704\ud574 \uac80\uc0c9 \uacb0\uacfc\ub97c \ubaa8\ub378\uc5d0 \ub9e5\ub77d\uc73c\ub85c \uc804\ub2ec\ud568.\n",
                "\n",
                "It takes close to 2 minutes to return the result (but using other vector stores other than Chroma such as FAISS can take longer) because Llama2 is running on a local Mac.<br>\uc560\ud50c \ub9e4\ud0a8\ud1a0\uc2dc \ucef4\ud4e8\ud130\uc5d0\uc11c \uc2e4\uc2f1\uc2dc\ud0a4\uba74 \uacb0\uacfc \ubc18\ud658\uc5d0 \uc57d 2\ubd84 (\uc5ed\uc790 \uc8fc: \uc2dc\uac04\uc740 \ub2e4\ub97c \uc218 \uc788\uc74c) \uc815\ub3c4 \uac78\ub9b4 \uc218 \uc788\uc74c. (Chroma \uc544\ub2cc vector store\ub97c \uc0ac\uc6a9\ud558\uba74, \uc608\ub97c \ub4e4\uc5b4 FAISS\uc758 \uacbd\uc6b0 \ub354 \uc624\ub798 \uac78\ub9b4 \uc218 \uc788\uc74c)\n",
                "To get much faster results, you can use a cloud service with GPU used for inference - see HelloLlamaCloud for a demo.<br>\n",
                "\ub354 \ube60\ub978 \uacb0\uacfc\ub97c \uc5bb\uae30 \uc704\ud574\uc11c\ub294 GPU\ub97c inference \uc778\ud37c\ub7f0\uc2a4 \uc5d0 \uc0ac\uc6a9\ud558\ub294 \ud074\ub77c\uc6b0\ub4dc \uc11c\ube44\uc2a4\uc5d0 \uc0ac\uc6a9\ud560 \uc218 \uc788\uc74c. HelloLlamaCloud \ubb38\uc11c\ub97c \ucc38\uace0\ud558\uae30 \ubc14\ub78c.\n"
            ]
        },
        {
            "cell_type": "code",
            "execution_count": null,
            "metadata": {},
            "outputs": [],
            "source": [
                "\n",
                "question = \"What is llama2?\"\n",
                "result = qa_chain({\"query\": question})\n"
            ]
        }
    ],
    "metadata": {
        "colab": {
            "provenance": []
        },
        "kernelspec": {
            "display_name": "Python 3 (ipykernel)",
            "language": "python",
            "name": "python3"
        },
        "language_info": {
            "codemirror_mode": {
                "name": "ipython",
                "version": 3
            },
            "file_extension": ".py",
            "mimetype": "text/x-python",
            "name": "python",
            "nbconvert_exporter": "python",
            "pygments_lexer": "ipython3",
            "version": "3.10.10"
        }
    },
    "nbformat": 4,
    "nbformat_minor": 5
}