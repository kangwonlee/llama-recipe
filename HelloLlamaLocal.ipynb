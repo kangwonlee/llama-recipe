{
 "cells": [
  {
   "cell_type": "markdown",
   "id": "5985d0fb",
   "metadata": {},
   "source": [
    "ref : https://github.com/facebookresearch/llama-recipes/blob/main/demo_apps/HelloLlamaLocal.ipynb"
   ]
  },
  {
   "cell_type": "code",
   "execution_count": null,
   "id": "36adce86",
   "metadata": {},
   "outputs": [],
   "source": [
    "%%bash\n",
    "pip install --extra-index-url https://download.pytorch.org/whl/test/cu118 llama-recipes\n"
   ]
  },
  {
   "cell_type": "markdown",
   "id": "b7cabb96-2715-492e-825a-8f4ff161dc3b",
   "metadata": {
    "id": "b7cabb96-2715-492e-825a-8f4ff161dc3b"
   },
   "source": [
    "## This demo app shows<br>내용:\n",
    "* How to run Llama2 locally on a Mac using llama-cpp-python and the llama-cpp's quantized Llama2 model<br>Llama2 를 Mac 에서 실행시키는 법. `llama-cpp-python`과 `llama-cpp`의 양자화 Llama2 모델을 사용.\n",
    "* How to use LangChain to ask Llama general questions<br>`LangChain` 을 써서 `Llama`에게 일반적인 질문을 하는 법.\n",
    "* How to use LangChain to load a recent PDF doc - the Llama2 paper pdf - and ask questions about it. This is the well known RAG (Retrieval Augmented Generation) method to let LLM such as Llama2 be able to answer questions about the data not publicly available when Llama2 was trained, or about your own data. RAG is one way to prevent LLM's hallucination<br>LangChain을 써서 최근의 PDF 문서 - Llama2 논문 pdf - 를 읽는 법과 관련 질문을 하는 법. 이것이 잘 알려진 RAG (Retrieval Augmented Generation) 법으로 LLM 훈련 당시에는 공개되지 않았거나 자신만의 data에 관해 Llama2와 같은 LLM이 답할 수 있도록 하는 방법임. RAG 는 LLM 의 환상현상을 방지하는 한가지 방법임."
   ]
  },
  {
   "cell_type": "markdown",
   "id": "789bd63c",
   "metadata": {},
   "source": [
    "### If you have a shared Google Drive link to the parameter file<br>공유된 매개변수 파일의 Google Drive link 가 있는 경우\n",
    "* 해당 폴더의 shortcut 을 자신의 Googlr Drive 로 생성\n",
    "* 이 경우는 다운로드 할 필요가 없을 것임\n",
    "\n"
   ]
  },
  {
   "cell_type": "markdown",
   "id": "jXq9G9gFu8_6",
   "metadata": {
    "id": "jXq9G9gFu8_6"
   },
   "source": [
    "### If you want to independently run the model<br>독립적으로 해당 모델을 실행시켜 보고 싶은 경우\n",
    "\n",
    "\n",
    "* [여기](https://colab.research.google.com/corgiredirector?site=https%3A%2F%2Fdrive.google.com%2Ffile%2Fd%2F1afPv3HOy73BE2MoYCgYJvBDeQNa9rZbj%2Fview%3Fusp%3Dsharing) 에서 \"양자화\"된 모델 파일을 다운로드\n",
    "* Google Drive 에 적당한 폴더를 만듦\n",
    "    * 예를 들어 `llama2_7gb`(LLAMA2_7GB 의 소문자)\n",
    "* 다운로드한 파일을 해당 폴더에 upload\n",
    "* 시간이 많이 걸리므로 아래의 절차와 병행 추진"
   ]
  },
  {
   "cell_type": "markdown",
   "id": "22450267",
   "metadata": {
    "id": "22450267"
   },
   "source": [
    "Install necessary requirements and import packages we will be using in this example.<br>\n",
    "필요한 다른 소프트웨어와 이 예제에서 사용할 패키지를 설치.\n",
    "- [llama-cpp-python](https://github.com/abetlen/llama-cpp-python) a simple Python bindings for [llama.cpp](https://github.com/ggerganov/llama.cpp) library<br>[llama.cpp](https://github.com/ggerganov/llama.cpp)와 파이썬을 연결하는 간단한 소프트웨어\n",
    "- pypdf gives us the ability to work with pdfs<br>pypdf 는 pdf 로 작업하는 능력을 추가\n",
    "- sentence-transformers for text embeddings<br>단어를 숫자로 바꾸는 text embedding 을 위한 sentence-transformer\n",
    "- chromadb gives us database capabilities<br>chromadb 는 데이터베이스\n",
    "- langchain provides necessary RAG tools for this demo<br>langchain 이 예제를 위해 필요한 RAG 기능을 제공"
   ]
  },
  {
   "cell_type": "code",
   "execution_count": null,
   "id": "2922732e-29e8-4ea7-8828-53364f5bf6fd",
   "metadata": {
    "id": "2922732e-29e8-4ea7-8828-53364f5bf6fd"
   },
   "outputs": [],
   "source": [
    "# install all the required packages for the demo\n",
    "# !CMAKE_ARGS=\"-DLLAMA_METAL=on\"\n",
    "# !FORCE_CMAKE=1\n",
    "!pip install --force-reinstall \"typing-extensions<4.6.0\" \\\n",
    "    \"jedi>=0.16\" cohere openai tiktoken \"numpy<1.26,>=1.20\" \\\n",
    "    fsspec==2023.6.0 google-auth==2.17.3 torch==2.1.0 \\\n",
    "    \"pillow<10.1.0,>=8.3.2\" \"wrapt<1.15,>=1.11.0\" \"protobuf<4.21,>=3.20.3\" \\\n",
    "    fastapi uvicorn kaleido python-multipart \\\n",
    "    llama-cpp-python \\\n",
    "    pypdf sentence-transformers chromadb langchain sentence-transformers\n",
    "\n"
   ]
  },
  {
   "cell_type": "code",
   "execution_count": null,
   "id": "26bc4912",
   "metadata": {
    "id": "26bc4912"
   },
   "outputs": [],
   "source": [
    "from langchain.llms import LlamaCpp\n",
    "from langchain.chains import LLMChain\n",
    "from langchain.callbacks.manager import CallbackManager\n",
    "from langchain.callbacks.streaming_stdout import StreamingStdOutCallbackHandler\n",
    "from langchain.prompts import PromptTemplate"
   ]
  },
  {
   "cell_type": "markdown",
   "id": "73df46d9",
   "metadata": {
    "id": "73df46d9"
   },
   "source": [
    "Next, initialize the langchain `CallBackManager`. This handles callbacks from Langchain and for this example we will use token-wise streaming so the answer gets generated token by token when Llama is answering your question.<br>\n",
    "다음으로 `langchain` 모듈의 `CallBackManager` 를 초기화. 이는 Langchain 으로부터의 callback을 다루는데 이 예제에서는 토큰(단어를 숫자로 바꾼 것) 의 stream을 사용할 것이므로 Llama 가 여러분의 질문에 답할 때는 token 을 하나씩 생성할 것임."
   ]
  },
  {
   "cell_type": "code",
   "execution_count": null,
   "id": "01fe5b9c",
   "metadata": {
    "id": "01fe5b9c"
   },
   "outputs": [],
   "source": [
    "# for token-wise streaming so you'll see the answer gets generated token by token when Llama is answering your question\n",
    "callback_manager = CallbackManager([StreamingStdOutCallbackHandler()])"
   ]
  },
  {
   "cell_type": "markdown",
   "id": "8536c352",
   "metadata": {
    "id": "8536c352"
   },
   "source": [
    "\n",
    "Set up the Llama 2 model.\n",
    "\n",
    "Replace `<path-to-llama-gguf-file>` with the path either to your downloaded quantized model file [here](https://drive.google.com/file/d/1afPv3HOy73BE2MoYCgYJvBDeQNa9rZbj/view?usp=sharing),\n",
    "\n",
    "or to the `ggml-model-q4_0.gguf` file built with the following commands:\n",
    "\n",
    "```bash\n",
    "git clone https://github.com/ggerganov/llama.cpp\n",
    "cd llama.cpp\n",
    "python3 -m pip install -r requirements.txt\n",
    "python convert.py <path_to_your_downloaded_llama-2-13b_model>\n",
    "./quantize <path_to_your_downloaded_llama-2-13b_model>/ggml-model-f16.gguf <path_to_your_downloaded_llama-2-13b_model>/ggml-model-q4_0.gguf q4_0\n",
    "\n",
    "```\n",
    "For more info see https://python.langchain.com/docs/integrations/llms/llamacpp"
   ]
  },
  {
   "cell_type": "markdown",
   "id": "9Xtd8-vlpfTR",
   "metadata": {
    "id": "9Xtd8-vlpfTR"
   },
   "source": [
    "* 여기서부터는 파일 upload 가 끝난 후 진행"
   ]
  },
  {
   "cell_type": "code",
   "execution_count": null,
   "id": "oM1tbT4zmnyb",
   "metadata": {
    "id": "oM1tbT4zmnyb"
   },
   "outputs": [],
   "source": [
    "# 이 셀은 GDrive 와 Colab 을 연결\n",
    "# id 선택\n",
    "# 권한 [허용]\n",
    "from google.colab import drive\n",
    "drive.mount('/content/drive')"
   ]
  },
  {
   "cell_type": "markdown",
   "id": "kLN9_nXMqtIx",
   "metadata": {
    "id": "kLN9_nXMqtIx"
   },
   "source": [
    "* 왼쪽 마지막 아이콘으로 drive/MyDrive/ 아래 해당 파일의 위치를 확인"
   ]
  },
  {
   "cell_type": "code",
   "execution_count": null,
   "id": "gjnDwGqCfZfs",
   "metadata": {
    "id": "gjnDwGqCfZfs"
   },
   "outputs": [],
   "source": [
    "%%bash\n",
    "git clone https://github.com/ggerganov/llama.cpp\n",
    "cd llama.cpp\n",
    "python3 -m pip install -r requirements.txt\n",
    "# python convert.py ./drive/MyDrive/llama_7gb/ggml-model-q4_0.gguf\n",
    "# ./quantize ./drive/MyDrive/llama_7gb/ggml-model-f16.gguf ./drive/MyDrive/llama_7gb/ggml-model-q4_0.gguf q4_0"
   ]
  },
  {
   "cell_type": "code",
   "execution_count": null,
   "id": "dff6aa6b",
   "metadata": {
    "id": "dff6aa6b"
   },
   "outputs": [],
   "source": [
    "\n",
    "llm = LlamaCpp(\n",
    "    model_path=\"./drive/MyDrive/llama_7gb/ggml-model-q4_0.gguf\",\n",
    "    temperature=0.0,\n",
    "    top_p=1,\n",
    "    n_ctx=6000,\n",
    "    callback_manager=callback_manager,\n",
    "    verbose=True,\n",
    ")"
   ]
  },
  {
   "cell_type": "markdown",
   "id": "f2cae215",
   "metadata": {
    "id": "f2cae215"
   },
   "source": [
    "With the model set up, you are now ready to ask some questions.<br>이 모델이 초기화되면, 질문을 할 준비가 된 것임.\n",
    "\n",
    "Here is an example of the simplest way to ask the model some general questions.<br>여기 일반적인 질문을 하는 가장 간단한 예를 듦"
   ]
  },
  {
   "cell_type": "code",
   "execution_count": null,
   "id": "3txBf9RHwvDj",
   "metadata": {
    "id": "3txBf9RHwvDj"
   },
   "outputs": [],
   "source": [
    "\n",
    "question = \"파이썬 프로그래밍 언어는 누가 만들었는가?\"\n",
    "answer = llm(question)"
   ]
  },
  {
   "cell_type": "code",
   "execution_count": null,
   "id": "0e78549c-9c93-4bc2-b525-38d578a94fae",
   "metadata": {
    "id": "0e78549c-9c93-4bc2-b525-38d578a94fae"
   },
   "outputs": [],
   "source": [
    "\n",
    "question = \"who wrote the book Innovator's dilemma?\"\n",
    "answer = llm(question)"
   ]
  },
  {
   "cell_type": "markdown",
   "id": "545cb6aa",
   "metadata": {
    "id": "545cb6aa"
   },
   "source": [
    "Alternatively, you can use LangChain's `PromptTemplate` for some flexibility in your prompts and questions.<br>또는 LangChain의 `PromptTemplate`를 사용하여 프롬프트와 질문에 유연성을 부여할 수 있음.\n",
    "\n",
    "For more information on LangChain's prompt template visit this [link](https://python.langchain.com/docs/modules/model_io/prompts/prompt_templates/)<br>LangChain 의 `PromptTemplate`에 관해서는 [여기](https://python.langchain.com/docs/modules/model_io/prompts/prompt_templates/)를 참고\n",
    "\n"
   ]
  },
  {
   "cell_type": "code",
   "execution_count": null,
   "id": "f7305c5b-6f55-4664-9206-2d7467653498",
   "metadata": {
    "id": "f7305c5b-6f55-4664-9206-2d7467653498"
   },
   "outputs": [],
   "source": [
    "# a more flexible way to ask Llama general questions using LangChain's PromptTemplate and LLMChain\n",
    "prompt = PromptTemplate.from_template(\n",
    "    \"who wrote {book}?\"\n",
    ")\n",
    "chain = LLMChain(llm=llm, prompt=prompt)\n",
    "answer = chain.run(\"innovator's dilemma\")"
   ]
  },
  {
   "cell_type": "markdown",
   "id": "189de613",
   "metadata": {
    "id": "189de613"
   },
   "source": [
    "Now, let's see how Llama2 hallucinates, because it did not have knowledge about Llama2 at the time it was trained.<br>\n",
    "이제 Llama2 의 환상 현상을 관찰. 훈련 데이터에는 포함되어 있지 않은 내용이기 때문<br>\n",
    "By default it behaves like a know-it-all expert who will not say \"I don't know\".<br>\n",
    "기본적으로는 모든것을 아는 전문가 처럼 행동하므로 \"나는 모르겠는데\" 라고 말하지 않으려고 함"
   ]
  },
  {
   "cell_type": "code",
   "execution_count": null,
   "id": "8ba66a29-77e9-4149-9523-63a09545584e",
   "metadata": {
    "id": "8ba66a29-77e9-4149-9523-63a09545584e"
   },
   "outputs": [],
   "source": [
    "\n",
    "prompt = PromptTemplate.from_template(\n",
    "    \"What is {what}?\"\n",
    ")\n",
    "chain = LLMChain(llm=llm, prompt=prompt)\n",
    "answer = chain.run(\"llama2\")"
   ]
  },
  {
   "cell_type": "markdown",
   "id": "37f77909",
   "metadata": {
    "id": "37f77909"
   },
   "source": [
    "One way we can fix the hallucinations is to use RAG, to augment it with more recent or custom data that holds the information for it to answer correctly.<br>\n",
    "환상 현상을 막기 위한 한가지 방법으로 RAG 를 사용하여 더 최근의 또는 바른 답에 대한 정보를 담은 맞춤 데이터를 제공하는 것임.\n",
    "\n",
    "First we load the Llama2 paper using LangChain's [PDF loader](https://python.langchain.com/docs/modules/data_connection/document_loaders/pdf)<br>\n",
    "우선 Llama2 논문을 LangChain 의 [PDF loader](https://python.langchain.com/docs/modules/data_connection/document_loaders/pdf)로 읽음\n",
    "\n"
   ]
  },
  {
   "cell_type": "code",
   "execution_count": null,
   "id": "a4f47db7",
   "metadata": {},
   "outputs": [],
   "source": [
    "import pathlib\n",
    "pdf_path = pathlib.Path.cwd() / 'drive'/ 'MyDrive' / 'llama_7gb' / 'llama2.pdf'\n",
    "assert pdf_path.exists()\n",
    "assert pdf_path.is_file()\n",
    "\n"
   ]
  },
  {
   "cell_type": "code",
   "execution_count": null,
   "id": "f3ebc261",
   "metadata": {
    "id": "f3ebc261"
   },
   "outputs": [],
   "source": [
    "\n",
    "from langchain.document_loaders import PyPDFLoader\n",
    "loader = PyPDFLoader(str(pdf_path))\n",
    "documents = loader.load()"
   ]
  },
  {
   "cell_type": "code",
   "execution_count": null,
   "id": "302eaa54",
   "metadata": {
    "id": "302eaa54"
   },
   "outputs": [],
   "source": [
    "# quick check on the loaded document for the correct pages etc\n",
    "print(len(documents), documents[0].page_content[0:300])"
   ]
  },
  {
   "cell_type": "markdown",
   "id": "8c4ede5b",
   "metadata": {
    "id": "8c4ede5b"
   },
   "source": [
    "Next we will store our documents.<br>\n",
    "다음으로 우리의 문서를 저장할 것임<br>\n",
    "There are more than 30 vector stores (DBs) supported by LangChain.<br>\n",
    "LangChain 은 30 가지 이상의 vector store 를 지원함<br>\n",
    "For this example we will use [Chroma](https://python.langchain.com/docs/integrations/vectorstores/chroma) which is light-weight and in memory so it's easy to get started with.<br>\n",
    "이 예를 위해서는 [Chroma](https://python.langchain.com/docs/integrations/vectorstores/chroma) 를 사용할 것임. 이는 가볍고 메모리에 상주하므로 진입 사례로 적당함.\n",
    "For other vector stores especially if you need to store a large amount of data - see https://python.langchain.com/docs/integrations/vectorstores<br>\n",
    "다른 vector store, 특히 대량의 데이터를 저장할 필요가 있을 경우 : https://python.langchain.com/docs/integrations/vectorstores\n",
    "\n",
    "We will also import the `HuggingFaceEmbeddings` and `RecursiveCharacterTextSplitter` to assist in storing the documents.<br>\n",
    "문서 저장을 돕기 위해 `HuggingFaceEmbeddings` 과 `RecursiveCharacterTextSplitter` 도 import 할 것임\n"
   ]
  },
  {
   "cell_type": "code",
   "execution_count": null,
   "id": "4f94f6f8",
   "metadata": {
    "id": "4f94f6f8"
   },
   "outputs": [],
   "source": [
    "\n",
    "from langchain.vectorstores import Chroma\n",
    "\n",
    "# embeddings are numerical representations of the question and answer text\n",
    "from langchain.embeddings import HuggingFaceEmbeddings\n",
    "\n",
    "# use a common text splitter to split text into chunks\n",
    "from langchain.text_splitter import RecursiveCharacterTextSplitter"
   ]
  },
  {
   "cell_type": "markdown",
   "id": "0bfdacf7",
   "metadata": {
    "id": "0bfdacf7"
   },
   "source": [
    "\n",
    "To store the documents, we will need to split them into chunks using [`RecursiveCharacterTextSplitter`](https://python.langchain.com/docs/modules/data_connection/document_transformers/text_splitters/recursive_text_splitter) and create vector representations of these chunks using [`HuggingFaceEmbeddings`](https://www.google.com/search?q=langchain+hugging+face+embeddings&sca_esv=572890011&ei=ARUoZaH4LuumptQP48ah2Ac&oq=langchian+hugg&gs_lp=Egxnd3Mtd2l6LXNlcnAiDmxhbmdjaGlhbiBodWdnKgIIADIHEAAYgAQYCjIHEAAYgAQYCjIHEAAYgAQYCjIHEAAYgAQYCjIHEAAYgAQYCjIHEAAYgAQYCjIHEAAYgAQYCjIHEAAYgAQYCjIHEAAYgAQYCjIHEAAYgAQYCkjeHlC5Cli5D3ABeAGQAQCYAV6gAb4CqgEBNLgBAcgBAPgBAcICChAAGEcY1gQYsAPiAwQYACBBiAYBkAYI&sclient=gws-wiz-serp) on them before storing them into our vector database.<br>\n",
    "해당 문서를 저장하기 위해 [`RecursiveCharacterTextSplitter`](https://python.langchain.com/docs/modules/data_connection/document_transformers/text_splitters/recursive_text_splitter)로 여러 chunk 덩어리로 나누고 벡터 데이터베이스에 저장하기 전에 [`HuggingFaceEmbeddings`](https://www.google.com/search?q=langchain+hugging+face+embeddings&sca_esv=572890011&ei=ARUoZaH4LuumptQP48ah2Ac&oq=langchian+hugg&gs_lp=Egxnd3Mtd2l6LXNlcnAiDmxhbmdjaGlhbiBodWdnKgIIADIHEAAYgAQYCjIHEAAYgAQYCjIHEAAYgAQYCjIHEAAYgAQYCjIHEAAYgAQYCjIHEAAYgAQYCjIHEAAYgAQYCjIHEAAYgAQYCjIHEAAYgAQYCjIHEAAYgAQYCkjeHlC5Cli5D3ABeAGQAQCYAV6gAb4CqgEBNLgBAcgBAPgBAcICChAAGEcY1gQYsAPiAwQYACBBiAYBkAYI&sclient=gws-wiz-serp)로 이러한 chunk 덩어리들의 벡터 표현을 만들 필요가 있을 것임.\n"
   ]
  },
  {
   "cell_type": "markdown",
   "id": "9f233f52",
   "metadata": {},
   "source": [
    "## Following example does not work in Colab yet<br>아래의 예는 Colab 에서는 아직 작동하지 않음\n",
    "\n"
   ]
  },
  {
   "cell_type": "code",
   "execution_count": null,
   "id": "2b101485",
   "metadata": {
    "id": "2b101485"
   },
   "outputs": [],
   "source": [
    "# split the loaded documents into chunks\n",
    "text_splitter = RecursiveCharacterTextSplitter(chunk_size=1000, chunk_overlap=20)\n",
    "all_splits = text_splitter.split_documents(documents)\n",
    "\n",
    "# create the vector db to store all the split chunks as embeddings\n",
    "embeddings = HuggingFaceEmbeddings(\n",
    "    model_name='intfloat/multilingual-e5-large'\n",
    ")\n",
    "vectordb = Chroma.from_documents(\n",
    "    documents=all_splits,\n",
    "    embedding=embeddings,\n",
    ")"
   ]
  },
  {
   "cell_type": "markdown",
   "id": "bddc38e8",
   "metadata": {
    "id": "bddc38e8"
   },
   "source": [
    "\n",
    "We then use ` RetrievalQA` to retrieve the documents from the vector database and give the model more context on Llama 2, thereby increasing its knowledge.<br>다음으로 `RetrievalQA`를 사용하여 벡터 데이터베이스로부터 문서를 읽어와서 언어모델에 Llama 2 에 대한 맥락을 전달하여 지식을 늘림."
   ]
  },
  {
   "cell_type": "code",
   "execution_count": null,
   "id": "1a2472c9",
   "metadata": {
    "id": "1a2472c9"
   },
   "outputs": [],
   "source": [
    "# use another LangChain's chain, RetrievalQA, to associate Llama with the loaded documents stored in the vector db\n",
    "from langchain.chains import RetrievalQA\n",
    "\n",
    "qa_chain = RetrievalQA.from_chain_type(\n",
    "    llm,\n",
    "    retriever=vectordb.as_retriever()\n",
    ")\n",
    "\n"
   ]
  },
  {
   "cell_type": "markdown",
   "id": "db71e5d7",
   "metadata": {
    "id": "db71e5d7"
   },
   "source": [
    "For each question, LangChain performs a semantic similarity search of it in the vector db, then passes the search results as the context to the model to answer the question.<br>각각의 질문에 대해 LangChain 은 vector db 안에서 의미 유사도 검색을 실시하고, 질문에 답하기 위해 검색 결과를 모델에 맥락으로 전달함.\n",
    "\n",
    "It takes close to 2 minutes to return the result (but using other vector stores other than Chroma such as FAISS can take longer) because Llama2 is running on a local Mac.<br>애플 매킨토시 컴퓨터에서 실싱시키면 결과 반환에 약 2분 (역자 주: 시간은 다를 수 있음) 정도 걸릴 수 있음. (Chroma 아닌 vector store를 사용하면, 예를 들어 FAISS의 경우 더 오래 걸릴 수 있음)\n",
    "To get much faster results, you can use a cloud service with GPU used for inference - see HelloLlamaCloud for a demo.<br>\n",
    "더 빠른 결과를 얻기 위해서는 GPU를 inference 인퍼런스 에 사용하는 클라우드 서비스에 사용할 수 있음. HelloLlamaCloud 문서를 참고하기 바람.\n"
   ]
  },
  {
   "cell_type": "code",
   "execution_count": null,
   "id": "dd2e62a4-6ea2-4ea7-b7ae-800185177e6c",
   "metadata": {
    "id": "dd2e62a4-6ea2-4ea7-b7ae-800185177e6c"
   },
   "outputs": [],
   "source": [
    "\n",
    "question = \"What is llama2?\"\n",
    "result = qa_chain({\"query\": question})\n"
   ]
  }
 ],
 "metadata": {
  "colab": {
   "provenance": []
  },
  "kernelspec": {
   "display_name": "Python 3 (ipykernel)",
   "language": "python",
   "name": "python3"
  },
  "language_info": {
   "codemirror_mode": {
    "name": "ipython",
    "version": 3
   },
   "file_extension": ".py",
   "mimetype": "text/x-python",
   "name": "python",
   "nbconvert_exporter": "python",
   "pygments_lexer": "ipython3",
   "version": "3.10.10"
  }
 },
 "nbformat": 4,
 "nbformat_minor": 5
}
